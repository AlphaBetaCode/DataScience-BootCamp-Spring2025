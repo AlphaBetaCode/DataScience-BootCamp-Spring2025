{
 "cells": [
  {
   "cell_type": "markdown",
   "metadata": {},
   "source": [
    "Part 1 - Numpy\n",
    "\n",
    "Use this dataset for the first 4 questions.\n",
    "\n",
    "url = 'https://archive.ics.uci.edu/ml/machine-learning-databases/iris/iris.data'\n",
    "\n",
    "iris_2d = np.genfromtxt(url, delimiter=',', dtype='float', usecols=[0,1,2,3])\n",
    "\n",
    "1.⁠ ⁠Define two custom numpy arrays, say A and B. Generate two new numpy arrays by stacking A and B vertically and horizontally.\n",
    "\n",
    "2.⁠ ⁠Find common elements between A and B. [Hint : Intersection of two sets]\n",
    "\n",
    "3.⁠ ⁠Extract all numbers from A which are within a specific range. eg between 5 and 10. [Hint: np.where() might be useful or boolean masks]\n",
    "\n",
    "4.⁠ ⁠Filter the rows of iris_2d that has petallength (3rd column) > 1.5 and sepallength (1st column) < 5.0"
   ]
  },
  {
   "cell_type": "code",
   "execution_count": 15,
   "metadata": {},
   "outputs": [],
   "source": [
    "import numpy as np\n",
    "import urllib.request\n",
    "import ssl\n",
    "\n",
    "# Create an SSL context that ignores certificate verification\n",
    "context = ssl._create_unverified_context()\n",
    "\n",
    "# URL of the dataset\n",
    "url = \"https://archive.ics.uci.edu/ml/machine-learning-databases/iris/iris.data\"\n",
    "\n",
    "# Download the file and read its contents\n",
    "response = urllib.request.urlopen(url, context=context)\n",
    "data = response.read().decode(\"utf-8\").splitlines()\n",
    "\n",
    "# Convert to NumPy array\n",
    "iris_2d = np.genfromtxt(data, delimiter=\",\", dtype=float, usecols=[0,1,2,3])"
   ]
  },
  {
   "cell_type": "code",
   "execution_count": 16,
   "metadata": {},
   "outputs": [
    {
     "name": "stdout",
     "output_type": "stream",
     "text": [
      "[[4.9 3.  1.4 0.2]\n",
      " [4.7 3.2 1.3 0.2]\n",
      " [4.6 3.1 1.5 0.2]]\n",
      "[[4.6 3.4 1.4 0.3]\n",
      " [5.  3.4 1.5 0.2]\n",
      " [4.4 2.9 1.4 0.2]]\n",
      "[[4.9 3.  1.4 0.2]\n",
      " [4.7 3.2 1.3 0.2]\n",
      " [4.6 3.1 1.5 0.2]\n",
      " [4.6 3.4 1.4 0.3]\n",
      " [5.  3.4 1.5 0.2]\n",
      " [4.4 2.9 1.4 0.2]]\n",
      "[[4.9 3.  1.4 0.2 4.6 3.4 1.4 0.3]\n",
      " [4.7 3.2 1.3 0.2 5.  3.4 1.5 0.2]\n",
      " [4.6 3.1 1.5 0.2 4.4 2.9 1.4 0.2]]\n"
     ]
    }
   ],
   "source": [
    "A = iris_2d[1:4]\n",
    "B = iris_2d[6:9]\n",
    "print(A)\n",
    "print(B)\n",
    "C = np.vstack((A,B))\n",
    "D = np.hstack((A,B))\n",
    "print(C)\n",
    "print(D)"
   ]
  },
  {
   "cell_type": "code",
   "execution_count": 18,
   "metadata": {},
   "outputs": [
    {
     "name": "stdout",
     "output_type": "stream",
     "text": [
      "[0.2 1.4 1.5 4.6]\n"
     ]
    }
   ],
   "source": [
    "intersection_set = np.intersect1d(A,B)\n",
    "print(intersection_set)"
   ]
  },
  {
   "cell_type": "code",
   "execution_count": 23,
   "metadata": {},
   "outputs": [
    {
     "name": "stdout",
     "output_type": "stream",
     "text": [
      "[4.9 4.7 3.2 4.6 3.1]\n"
     ]
    }
   ],
   "source": [
    "print(A[np.where((A < 5) & (A > 3))])"
   ]
  },
  {
   "cell_type": "code",
   "execution_count": 25,
   "metadata": {},
   "outputs": [
    {
     "name": "stdout",
     "output_type": "stream",
     "text": [
      "[[4.8 3.4 1.6 0.2]\n",
      " [4.8 3.4 1.9 0.2]\n",
      " [4.7 3.2 1.6 0.2]\n",
      " [4.8 3.1 1.6 0.2]\n",
      " [4.9 2.4 3.3 1. ]\n",
      " [4.9 2.5 4.5 1.7]]\n"
     ]
    }
   ],
   "source": [
    "filtered_rows = iris_2d[(iris_2d[:, 2] > 1.5) & (iris_2d[:, 0] < 5.0)]\n",
    "print(filtered_rows)"
   ]
  },
  {
   "cell_type": "markdown",
   "metadata": {},
   "source": [
    "Part 2 - Pandas\n",
    "\n",
    "1.⁠ ⁠From df filter the 'Manufacturer', 'Model' and 'Type' for every 20th row starting from 1st (row 0).\n",
    "\n",
    "df = pd.read_csv('https://raw.githubusercontent.com/selva86/datasets/master/Cars93_miss.csv')\n",
    "\n",
    "2.⁠ ⁠Replace missing values in Min.Price and Max.Price columns with their respective mean.\n",
    "\n",
    "df = pd.read_csv('https://raw.githubusercontent.com/selva86/datasets/master/Cars93_miss.csv')\n",
    "\n",
    "3.⁠ ⁠How to get the rows of a dataframe with row sum > 100?\n",
    "\n",
    "df = pd.DataFrame(np.random.randint(10, 40, 60).reshape(-1, 4))"
   ]
  },
  {
   "cell_type": "code",
   "execution_count": null,
   "metadata": {},
   "outputs": [
    {
     "name": "stdout",
     "output_type": "stream",
     "text": [
      "   Manufacturer       Model     Type  Min.Price  Price  Max.Price  MPG.city  \\\n",
      "0         Acura     Integra    Small       12.9   15.9       18.8      25.0   \n",
      "1           NaN      Legend  Midsize       29.2   33.9       38.7      18.0   \n",
      "2          Audi          90  Compact       25.9   29.1       32.3      20.0   \n",
      "3          Audi         100  Midsize        NaN   37.7       44.6      19.0   \n",
      "4           BMW        535i  Midsize        NaN   30.0        NaN      22.0   \n",
      "5         Buick     Century  Midsize       14.2   15.7       17.3      22.0   \n",
      "6         Buick     LeSabre    Large       19.9   20.8        NaN      19.0   \n",
      "7         Buick  Roadmaster    Large       22.6   23.7       24.9      16.0   \n",
      "8         Buick     Riviera  Midsize       26.3   26.3       26.3      19.0   \n",
      "9      Cadillac     DeVille    Large       33.0   34.7       36.3      16.0   \n",
      "10     Cadillac     Seville  Midsize       37.5   40.1       42.7      16.0   \n",
      "11    Chevrolet    Cavalier  Compact        8.5   13.4       18.3      25.0   \n",
      "12    Chevrolet     Corsica  Compact       11.4   11.4       11.4      25.0   \n",
      "13    Chevrolet      Camaro   Sporty       13.4   15.1       16.8      19.0   \n",
      "14    Chevrolet      Lumina  Midsize       13.4   15.9       18.4       NaN   \n",
      "15    Chevrolet  Lumina_APV      Van       14.7   16.3       18.0      18.0   \n",
      "16    Chevrolet       Astro      Van       14.7   16.6       18.6      15.0   \n",
      "17    Chevrolet     Caprice    Large       18.0   18.8       19.6      17.0   \n",
      "18    Chevrolet    Corvette   Sporty       34.6   38.0       41.5      17.0   \n",
      "19          NaN    Concorde    Large       18.4   18.4       18.4      20.0   \n",
      "20     Chrysler     LeBaron  Compact       14.5   15.8       17.1      23.0   \n",
      "\n",
      "    MPG.highway             AirBags DriveTrain  ... Passengers  Length  \\\n",
      "0          31.0                 NaN      Front  ...        5.0   177.0   \n",
      "1          25.0  Driver & Passenger      Front  ...        5.0   195.0   \n",
      "2          26.0         Driver only      Front  ...        5.0   180.0   \n",
      "3          26.0  Driver & Passenger        NaN  ...        6.0   193.0   \n",
      "4          30.0                 NaN       Rear  ...        4.0   186.0   \n",
      "5          31.0         Driver only        NaN  ...        6.0   189.0   \n",
      "6          28.0         Driver only      Front  ...        6.0   200.0   \n",
      "7          25.0         Driver only       Rear  ...        6.0   216.0   \n",
      "8          27.0         Driver only      Front  ...        5.0   198.0   \n",
      "9          25.0         Driver only      Front  ...        6.0   206.0   \n",
      "10         25.0  Driver & Passenger      Front  ...        5.0   204.0   \n",
      "11         36.0                 NaN        NaN  ...        5.0   182.0   \n",
      "12         34.0         Driver only      Front  ...        5.0   184.0   \n",
      "13         28.0  Driver & Passenger       Rear  ...        4.0   193.0   \n",
      "14         29.0                 NaN      Front  ...        6.0     NaN   \n",
      "15         23.0                 NaN      Front  ...        7.0   178.0   \n",
      "16         20.0                 NaN        4WD  ...        8.0   194.0   \n",
      "17         26.0         Driver only       Rear  ...        6.0   214.0   \n",
      "18         25.0         Driver only       Rear  ...        2.0   179.0   \n",
      "19         28.0  Driver & Passenger      Front  ...        6.0   203.0   \n",
      "20         28.0  Driver & Passenger      Front  ...        6.0   183.0   \n",
      "\n",
      "    Wheelbase  Width  Turn.circle Rear.seat.room  Luggage.room  Weight  \\\n",
      "0       102.0   68.0         37.0           26.5           NaN  2705.0   \n",
      "1       115.0   71.0         38.0           30.0          15.0  3560.0   \n",
      "2       102.0   67.0         37.0           28.0          14.0  3375.0   \n",
      "3       106.0    NaN         37.0           31.0          17.0  3405.0   \n",
      "4       109.0   69.0         39.0           27.0          13.0  3640.0   \n",
      "5       105.0   69.0         41.0           28.0          16.0     NaN   \n",
      "6       111.0   74.0         42.0           30.5          17.0  3470.0   \n",
      "7       116.0   78.0         45.0           30.5          21.0  4105.0   \n",
      "8       108.0    NaN         41.0           26.5          14.0  3495.0   \n",
      "9       114.0   73.0         43.0           35.0          18.0  3620.0   \n",
      "10      111.0   74.0         44.0           31.0           NaN  3935.0   \n",
      "11      101.0   66.0         38.0           25.0          13.0  2490.0   \n",
      "12      103.0   68.0         39.0           26.0           NaN  2785.0   \n",
      "13      101.0   74.0         43.0           25.0          13.0  3240.0   \n",
      "14      108.0   71.0          NaN           28.5          16.0  3195.0   \n",
      "15      110.0   74.0         44.0           30.5           NaN  3715.0   \n",
      "16      111.0   78.0         42.0           33.5           NaN  4025.0   \n",
      "17      116.0   77.0         42.0           29.5          20.0  3910.0   \n",
      "18       96.0   74.0         43.0            NaN           NaN  3380.0   \n",
      "19      113.0   74.0          NaN           31.0          15.0  3515.0   \n",
      "20      104.0   68.0         41.0           30.5          14.0  3085.0   \n",
      "\n",
      "     Origin                  Make  \n",
      "0   non-USA         Acura Integra  \n",
      "1   non-USA          Acura Legend  \n",
      "2   non-USA               Audi 90  \n",
      "3   non-USA              Audi 100  \n",
      "4   non-USA              BMW 535i  \n",
      "5       USA         Buick Century  \n",
      "6       USA         Buick LeSabre  \n",
      "7       USA      Buick Roadmaster  \n",
      "8       USA         Buick Riviera  \n",
      "9       USA      Cadillac DeVille  \n",
      "10      USA      Cadillac Seville  \n",
      "11      USA    Chevrolet Cavalier  \n",
      "12      USA     Chevrolet Corsica  \n",
      "13      USA      Chevrolet Camaro  \n",
      "14      USA      Chevrolet Lumina  \n",
      "15      USA  Chevrolet Lumina_APV  \n",
      "16      USA       Chevrolet Astro  \n",
      "17      USA     Chevrolet Caprice  \n",
      "18      NaN    Chevrolet Corvette  \n",
      "19      USA     Chrylser Concorde  \n",
      "20      USA      Chrysler LeBaron  \n",
      "\n",
      "[21 rows x 27 columns]\n"
     ]
    }
   ],
   "source": [
    "import pandas as pd\n",
    "\n",
    "# Fetch data from the URL\n",
    "url = 'https://raw.githubusercontent.com/selva86/datasets/master/Cars93_miss.csv'\n",
    "response = urllib.request.urlopen(url, context=context)\n",
    "\n",
    "# Convert response to a pandas DataFrame\n",
    "df = pd.read_csv(response)\n",
    "\n",
    "print(df.head())  # Print first few rows\n"
   ]
  },
  {
   "cell_type": "code",
   "execution_count": 44,
   "metadata": {},
   "outputs": [
    {
     "name": "stdout",
     "output_type": "stream",
     "text": [
      "     Manufacturer       Model     Type\n",
      "0           Acura     Integra    Small\n",
      "19            NaN    Concorde    Large\n",
      "38            Geo       Metro    Small\n",
      "57  Mercedes-Benz        190E  Compact\n",
      "76        Pontiac  Bonneville    Large\n"
     ]
    }
   ],
   "source": [
    "filter_rows = df[['Manufacturer','Model','Type']][0::19]\n",
    "print(filter_rows)"
   ]
  },
  {
   "cell_type": "code",
   "execution_count": 45,
   "metadata": {},
   "outputs": [
    {
     "name": "stdout",
     "output_type": "stream",
     "text": [
      "  Manufacturer    Model     Type  Min.Price  Price  Max.Price  MPG.city  \\\n",
      "0        Acura  Integra    Small       12.9   15.9       18.8      25.0   \n",
      "1          NaN   Legend  Midsize       29.2   33.9       38.7      18.0   \n",
      "2         Audi       90  Compact       25.9   29.1       32.3      20.0   \n",
      "3         Audi      100  Midsize        NaN   37.7       44.6      19.0   \n",
      "4          BMW     535i  Midsize        NaN   30.0        NaN      22.0   \n",
      "\n",
      "   MPG.highway             AirBags DriveTrain  ... Passengers  Length  \\\n",
      "0         31.0                 NaN      Front  ...        5.0   177.0   \n",
      "1         25.0  Driver & Passenger      Front  ...        5.0   195.0   \n",
      "2         26.0         Driver only      Front  ...        5.0   180.0   \n",
      "3         26.0  Driver & Passenger        NaN  ...        6.0   193.0   \n",
      "4         30.0                 NaN       Rear  ...        4.0   186.0   \n",
      "\n",
      "   Wheelbase  Width  Turn.circle Rear.seat.room  Luggage.room  Weight  \\\n",
      "0      102.0   68.0         37.0           26.5           NaN  2705.0   \n",
      "1      115.0   71.0         38.0           30.0          15.0  3560.0   \n",
      "2      102.0   67.0         37.0           28.0          14.0  3375.0   \n",
      "3      106.0    NaN         37.0           31.0          17.0  3405.0   \n",
      "4      109.0   69.0         39.0           27.0          13.0  3640.0   \n",
      "\n",
      "    Origin           Make  \n",
      "0  non-USA  Acura Integra  \n",
      "1  non-USA   Acura Legend  \n",
      "2  non-USA        Audi 90  \n",
      "3  non-USA       Audi 100  \n",
      "4  non-USA       BMW 535i  \n",
      "\n",
      "[5 rows x 27 columns]\n"
     ]
    }
   ],
   "source": [
    "url = 'https://raw.githubusercontent.com/selva86/datasets/master/Cars93_miss.csv'\n",
    "response = urllib.request.urlopen(url, context=context)\n",
    "\n",
    "# Convert response to a pandas DataFrame\n",
    "df = pd.read_csv(response)\n",
    "\n",
    "print(df.head())"
   ]
  },
  {
   "cell_type": "code",
   "execution_count": 51,
   "metadata": {},
   "outputs": [
    {
     "name": "stdout",
     "output_type": "stream",
     "text": [
      "17.11860465116279\n",
      "21.45909090909091\n",
      "  Manufacturer    Model     Type  Min.Price  Price  Max.Price  MPG.city  \\\n",
      "0        Acura  Integra    Small  12.900000   15.9  18.800000      25.0   \n",
      "1          NaN   Legend  Midsize  29.200000   33.9  38.700000      18.0   \n",
      "2         Audi       90  Compact  25.900000   29.1  32.300000      20.0   \n",
      "3         Audi      100  Midsize  17.118605   37.7  44.600000      19.0   \n",
      "4          BMW     535i  Midsize  17.118605   30.0  21.459091      22.0   \n",
      "\n",
      "   MPG.highway             AirBags DriveTrain  ... Passengers  Length  \\\n",
      "0         31.0                 NaN      Front  ...        5.0   177.0   \n",
      "1         25.0  Driver & Passenger      Front  ...        5.0   195.0   \n",
      "2         26.0         Driver only      Front  ...        5.0   180.0   \n",
      "3         26.0  Driver & Passenger        NaN  ...        6.0   193.0   \n",
      "4         30.0                 NaN       Rear  ...        4.0   186.0   \n",
      "\n",
      "   Wheelbase  Width  Turn.circle Rear.seat.room  Luggage.room  Weight  \\\n",
      "0      102.0   68.0         37.0           26.5           NaN  2705.0   \n",
      "1      115.0   71.0         38.0           30.0          15.0  3560.0   \n",
      "2      102.0   67.0         37.0           28.0          14.0  3375.0   \n",
      "3      106.0    NaN         37.0           31.0          17.0  3405.0   \n",
      "4      109.0   69.0         39.0           27.0          13.0  3640.0   \n",
      "\n",
      "    Origin           Make  \n",
      "0  non-USA  Acura Integra  \n",
      "1  non-USA   Acura Legend  \n",
      "2  non-USA        Audi 90  \n",
      "3  non-USA       Audi 100  \n",
      "4  non-USA       BMW 535i  \n",
      "\n",
      "[5 rows x 27 columns]\n"
     ]
    }
   ],
   "source": [
    "avg_min_price = np.mean(df['Min.Price'])\n",
    "print(avg_min_price)\n",
    "df['Min.Price']=df['Min.Price'].fillna(avg_min_price)\n",
    "avg_max_price = np.mean(df['Max.Price'])\n",
    "print(avg_max_price)\n",
    "df['Max.Price']=df['Max.Price'].fillna(avg_max_price)\n",
    "print(df.head())"
   ]
  },
  {
   "cell_type": "code",
   "execution_count": 52,
   "metadata": {},
   "outputs": [
    {
     "name": "stdout",
     "output_type": "stream",
     "text": [
      "     0   1   2   3\n",
      "0   34  36  29  38\n",
      "1   36  15  25  23\n",
      "2   22  13  21  34\n",
      "3   11  25  29  27\n",
      "4   36  34  33  11\n",
      "5   37  17  25  17\n",
      "6   30  30  24  23\n",
      "7   19  35  37  13\n",
      "8   21  32  24  18\n",
      "9   33  14  37  15\n",
      "10  39  39  35  15\n",
      "11  29  22  37  36\n",
      "12  16  20  35  11\n",
      "13  10  10  19  22\n",
      "14  25  26  17  19\n"
     ]
    }
   ],
   "source": [
    "df = pd.DataFrame(np.random.randint(10, 40, 60).reshape(-1, 4))\n",
    "print(df)"
   ]
  },
  {
   "cell_type": "code",
   "execution_count": 53,
   "metadata": {},
   "outputs": [
    {
     "data": {
      "text/html": [
       "<div>\n",
       "<style scoped>\n",
       "    .dataframe tbody tr th:only-of-type {\n",
       "        vertical-align: middle;\n",
       "    }\n",
       "\n",
       "    .dataframe tbody tr th {\n",
       "        vertical-align: top;\n",
       "    }\n",
       "\n",
       "    .dataframe thead th {\n",
       "        text-align: right;\n",
       "    }\n",
       "</style>\n",
       "<table border=\"1\" class=\"dataframe\">\n",
       "  <thead>\n",
       "    <tr style=\"text-align: right;\">\n",
       "      <th></th>\n",
       "      <th>0</th>\n",
       "      <th>1</th>\n",
       "      <th>2</th>\n",
       "      <th>3</th>\n",
       "    </tr>\n",
       "  </thead>\n",
       "  <tbody>\n",
       "    <tr>\n",
       "      <th>0</th>\n",
       "      <td>34</td>\n",
       "      <td>36</td>\n",
       "      <td>29</td>\n",
       "      <td>38</td>\n",
       "    </tr>\n",
       "    <tr>\n",
       "      <th>4</th>\n",
       "      <td>36</td>\n",
       "      <td>34</td>\n",
       "      <td>33</td>\n",
       "      <td>11</td>\n",
       "    </tr>\n",
       "    <tr>\n",
       "      <th>6</th>\n",
       "      <td>30</td>\n",
       "      <td>30</td>\n",
       "      <td>24</td>\n",
       "      <td>23</td>\n",
       "    </tr>\n",
       "    <tr>\n",
       "      <th>7</th>\n",
       "      <td>19</td>\n",
       "      <td>35</td>\n",
       "      <td>37</td>\n",
       "      <td>13</td>\n",
       "    </tr>\n",
       "    <tr>\n",
       "      <th>10</th>\n",
       "      <td>39</td>\n",
       "      <td>39</td>\n",
       "      <td>35</td>\n",
       "      <td>15</td>\n",
       "    </tr>\n",
       "    <tr>\n",
       "      <th>11</th>\n",
       "      <td>29</td>\n",
       "      <td>22</td>\n",
       "      <td>37</td>\n",
       "      <td>36</td>\n",
       "    </tr>\n",
       "  </tbody>\n",
       "</table>\n",
       "</div>"
      ],
      "text/plain": [
       "     0   1   2   3\n",
       "0   34  36  29  38\n",
       "4   36  34  33  11\n",
       "6   30  30  24  23\n",
       "7   19  35  37  13\n",
       "10  39  39  35  15\n",
       "11  29  22  37  36"
      ]
     },
     "execution_count": 53,
     "metadata": {},
     "output_type": "execute_result"
    }
   ],
   "source": [
    "df[df.sum(axis=1) > 100]"
   ]
  }
 ],
 "metadata": {
  "kernelspec": {
   "display_name": "Python 3",
   "language": "python",
   "name": "python3"
  },
  "language_info": {
   "codemirror_mode": {
    "name": "ipython",
    "version": 3
   },
   "file_extension": ".py",
   "mimetype": "text/x-python",
   "name": "python",
   "nbconvert_exporter": "python",
   "pygments_lexer": "ipython3",
   "version": "3.13.2"
  }
 },
 "nbformat": 4,
 "nbformat_minor": 2
}
