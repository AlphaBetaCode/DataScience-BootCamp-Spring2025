{
 "cells": [
  {
   "cell_type": "markdown",
   "metadata": {},
   "source": [
    "1.⁠ ⁠How do you assess the statistical significance of an insight?\n",
    "Statistical significance is assessed using a p-value—if it's below a threshold (commonly 0.05), the result is considered significant.\n",
    "This means there's a low probability the result happened by random chance.\n",
    "You typically use a hypothesis test (e.g., t-test or chi-square test).\n",
    "Statistical significance doesn’t imply practical significance—context matters.\n",
    "Always consider sample size, effect size, and confidence levels too.\n",
    "\n",
    "2.⁠ ⁠What is the Central Limit Theorem? Explain it. Why is it important?\n",
    "The Central Limit Theorem (CLT) states that the sampling distribution of the mean approaches a normal distribution as sample size increases.\n",
    "This holds true regardless of the population’s original distribution.\n",
    "It enables us to make inferences using normal distribution techniques.\n",
    "CLT is the foundation for confidence intervals and hypothesis testing.\n",
    "It is crucial in statistics because real-world data isn’t always normally distributed.\n",
    "\n",
    "3.⁠ ⁠What is the statistical power?\n",
    "Statistical power is the probability of correctly rejecting a false null hypothesis (i.e., detecting a true effect).\n",
    "Higher power reduces the chance of a Type II error (false negative).\n",
    "Power depends on effect size, sample size, significance level, and variance.\n",
    "Typically, 80% power is considered acceptable in studies.\n",
    "Power analysis helps plan studies and determine the needed sample size.\n",
    "\n",
    "4.⁠ ⁠How do you control for biases?\n",
    "Bias can be reduced by randomization, blinding, and using control groups.\n",
    "Design studies carefully to minimize selection, measurement, and confirmation bias.\n",
    "Use statistical techniques like stratification or regression adjustment.\n",
    "Pre-registering hypotheses helps avoid p-hacking or data dredging.\n",
    "Always examine potential biases in both data collection and analysis stages.\n",
    "\n",
    "5.⁠ ⁠What are confounding variables?\n",
    "A confounding variable influences both the dependent and independent variables, misleading results.\n",
    "It creates a false association or hides a real one.\n",
    "Example: Age might confound the relationship between exercise and heart health.\n",
    "Control confounders through randomization, matching, or multivariate analysis.\n",
    "Identifying them is key to ensuring causal interpretations are valid.\n",
    "\n",
    "6.⁠ ⁠What is A/B testing?\n",
    "A/B testing is a method to compare two versions (A and B) of something (e.g., a website or feature).\n",
    "Participants are randomly split into groups to test performance differences.\n",
    "Statistical tests then determine if observed differences are significant.\n",
    "It’s widely used in product optimization, marketing, and UX design.\n",
    "Control variables and large enough sample sizes ensure reliability.\n",
    "\n",
    "7.⁠ ⁠What are confidence intervals?\n",
    "A confidence interval gives a range of values where a population parameter is likely to lie.\n",
    "A 95% confidence interval means if we repeated the experiment many times, 95% of the intervals would contain the true value.\n",
    "It reflects both the estimate and its uncertainty.\n",
    "Narrower intervals indicate more precise estimates."
   ]
  }
 ],
 "metadata": {
  "language_info": {
   "name": "python"
  }
 },
 "nbformat": 4,
 "nbformat_minor": 2
}
